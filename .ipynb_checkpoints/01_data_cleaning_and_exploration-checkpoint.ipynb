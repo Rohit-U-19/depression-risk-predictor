{
 "cells": [
  {
   "cell_type": "markdown",
   "id": "d0b20935",
   "metadata": {},
   "source": [
    "# Day 3: Load, Clean, and Explore Your Data"
   ]
  },
  {
   "cell_type": "code",
   "execution_count": null,
   "id": "e872f807",
   "metadata": {},
   "outputs": [],
   "source": [
    "\n",
    "import pandas as pd\n",
    "import matplotlib.pyplot as plt\n",
    "import seaborn as sns\n",
    "import numpy as np\n",
    "\n",
    "# Load the data\n",
    "df = pd.read_csv('../data/raw/mock_survey_data.csv')\n",
    "df.head()\n"
   ]
  },
  {
   "cell_type": "code",
   "execution_count": null,
   "id": "86c44515",
   "metadata": {},
   "outputs": [],
   "source": [
    "\n",
    "# Check types and nulls\n",
    "df.info()\n",
    "df.isnull().sum()\n"
   ]
  },
  {
   "cell_type": "code",
   "execution_count": null,
   "id": "07bfc9d4",
   "metadata": {},
   "outputs": [],
   "source": [
    "\n",
    "# Clean up column types\n",
    "df['mental_health_history'] = df['mental_health_history'].map({'Yes': 1, 'No': 0})\n",
    "df['gender'] = df['gender'].astype('category')\n",
    "df['occupation'] = df['occupation'].astype('category')\n",
    "\n",
    "# Drop rows with missing values\n",
    "df.dropna(inplace=True)\n"
   ]
  },
  {
   "cell_type": "code",
   "execution_count": null,
   "id": "5ef5392c",
   "metadata": {},
   "outputs": [],
   "source": [
    "\n",
    "# Plot class balance\n",
    "sns.countplot(x='risk', data=df)\n",
    "plt.title('Risk Distribution')\n",
    "plt.show()\n"
   ]
  },
  {
   "cell_type": "code",
   "execution_count": null,
   "id": "8ddf1265",
   "metadata": {},
   "outputs": [],
   "source": [
    "\n",
    "# Plot distributions of numerical features\n",
    "df[['sleep_hours', 'social_media_minutes', 'activity_level', 'emotional_score']].hist(bins=15, figsize=(12, 8))\n",
    "plt.tight_layout()\n",
    "plt.show()\n"
   ]
  },
  {
   "cell_type": "code",
   "execution_count": null,
   "id": "45fb5d1c",
   "metadata": {},
   "outputs": [],
   "source": [
    "\n",
    "# Correlation heatmap\n",
    "plt.figure(figsize=(10, 6))\n",
    "sns.heatmap(df.corr(numeric_only=True), annot=True, cmap='coolwarm')\n",
    "plt.title('Feature Correlation Matrix')\n",
    "plt.show()\n"
   ]
  },
  {
   "cell_type": "code",
   "execution_count": null,
   "id": "855a6d64",
   "metadata": {},
   "outputs": [],
   "source": [
    "\n",
    "# OPTIONAL: Add sentiment score from post text\n",
    "from textblob import TextBlob\n",
    "\n",
    "def get_sentiment(text):\n",
    "    return TextBlob(str(text)).sentiment.polarity\n",
    "\n",
    "df['sentiment_score'] = df['post_text'].apply(get_sentiment)\n",
    "df[['post_text', 'sentiment_score']].head()\n"
   ]
  },
  {
   "cell_type": "code",
   "execution_count": null,
   "id": "2cb41a53",
   "metadata": {},
   "outputs": [],
   "source": [
    "\n",
    "# Save processed data\n",
    "df.to_csv('../data/processed/cleaned_survey_data.csv', index=False)\n"
   ]
  }
 ],
 "metadata": {},
 "nbformat": 4,
 "nbformat_minor": 5
}